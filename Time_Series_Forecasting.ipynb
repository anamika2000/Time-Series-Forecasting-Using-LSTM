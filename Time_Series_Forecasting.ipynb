{
  "nbformat": 4,
  "nbformat_minor": 0,
  "metadata": {
    "colab": {
      "name": "Time Series Forecasting.ipynb",
      "provenance": [],
      "collapsed_sections": [],
      "toc_visible": true,
      "authorship_tag": "ABX9TyOs9UeQ0gW5NxlLKwzcTYrS",
      "include_colab_link": true
    },
    "kernelspec": {
      "name": "python3",
      "display_name": "Python 3"
    }
  },
  "cells": [
    {
      "cell_type": "markdown",
      "metadata": {
        "id": "view-in-github",
        "colab_type": "text"
      },
      "source": [
        "<a href=\"https://colab.research.google.com/github/anamika2000/Time-Series-Forecasting-Using-LSTM/blob/main/Time_Series_Forecasting.ipynb\" target=\"_parent\"><img src=\"https://colab.research.google.com/assets/colab-badge.svg\" alt=\"Open In Colab\"/></a>"
      ]
    },
    {
      "cell_type": "markdown",
      "metadata": {
        "id": "y2htMCIPu2ZN"
      },
      "source": [
        "#Time Series Forecasting \n"
      ]
    },
    {
      "cell_type": "markdown",
      "metadata": {
        "id": "LTd4Z0FYu80p"
      },
      "source": [
        "Time series are widely used for non-stationary data, like economic, weather, stock price, and retail sales in this post. I am going to predict temperature with time series forecasting using RNN method\n",
        "\n",
        "Time Series Forecasting using CNN-LSTM\n"
      ]
    },
    {
      "cell_type": "code",
      "metadata": {
        "id": "AF-feh-A9p1g"
      },
      "source": [
        "import os\n",
        "import numpy as np \n",
        "import pandas as pd \n",
        "import matplotlib.pyplot as plt\n",
        "from keras import metrics\n",
        "from keras.models import Sequential\n",
        "from keras.layers import Dense,RepeatVector\n",
        "from keras.layers import Dropout\n",
        "from keras.layers import LSTM\n",
        "from sklearn.preprocessing import MinMaxScaler\n",
        "from sklearn.metrics import mean_squared_error\n",
        "from keras.layers import Flatten\n",
        "from keras.layers import TimeDistributed\n",
        "from keras.layers.convolutional import Conv1D\n",
        "from keras.layers.convolutional import MaxPooling1D"
      ],
      "execution_count": null,
      "outputs": []
    },
    {
      "cell_type": "code",
      "metadata": {
        "id": "qs-6tkVy_J1U"
      },
      "source": [
        "data=pd.read_csv('testset.csv.zip')"
      ],
      "execution_count": null,
      "outputs": []
    },
    {
      "cell_type": "code",
      "metadata": {
        "id": "NKXSOtB8_TOA",
        "colab": {
          "base_uri": "https://localhost:8080/"
        },
        "outputId": "aa424c62-8ddf-4bb4-9e4f-978fae95f026"
      },
      "source": [
        "data.columns"
      ],
      "execution_count": null,
      "outputs": [
        {
          "output_type": "execute_result",
          "data": {
            "text/plain": [
              "Index(['datetime_utc', ' _conds', ' _dewptm', ' _fog', ' _hail',\n",
              "       ' _heatindexm', ' _hum', ' _precipm', ' _pressurem', ' _rain', ' _snow',\n",
              "       ' _tempm', ' _thunder', ' _tornado', ' _vism', ' _wdird', ' _wdire',\n",
              "       ' _wgustm', ' _windchillm', ' _wspdm'],\n",
              "      dtype='object')"
            ]
          },
          "metadata": {
            "tags": []
          },
          "execution_count": 3
        }
      ]
    },
    {
      "cell_type": "code",
      "metadata": {
        "id": "9Og8z-ih_e2-",
        "colab": {
          "base_uri": "https://localhost:8080/",
          "height": 299
        },
        "outputId": "7b73f493-71dc-4f2d-d5ad-2849108fe37c"
      },
      "source": [
        "data.head()"
      ],
      "execution_count": null,
      "outputs": [
        {
          "output_type": "execute_result",
          "data": {
            "text/html": [
              "<div>\n",
              "<style scoped>\n",
              "    .dataframe tbody tr th:only-of-type {\n",
              "        vertical-align: middle;\n",
              "    }\n",
              "\n",
              "    .dataframe tbody tr th {\n",
              "        vertical-align: top;\n",
              "    }\n",
              "\n",
              "    .dataframe thead th {\n",
              "        text-align: right;\n",
              "    }\n",
              "</style>\n",
              "<table border=\"1\" class=\"dataframe\">\n",
              "  <thead>\n",
              "    <tr style=\"text-align: right;\">\n",
              "      <th></th>\n",
              "      <th>datetime_utc</th>\n",
              "      <th>_conds</th>\n",
              "      <th>_dewptm</th>\n",
              "      <th>_fog</th>\n",
              "      <th>_hail</th>\n",
              "      <th>_heatindexm</th>\n",
              "      <th>_hum</th>\n",
              "      <th>_precipm</th>\n",
              "      <th>_pressurem</th>\n",
              "      <th>_rain</th>\n",
              "      <th>_snow</th>\n",
              "      <th>_tempm</th>\n",
              "      <th>_thunder</th>\n",
              "      <th>_tornado</th>\n",
              "      <th>_vism</th>\n",
              "      <th>_wdird</th>\n",
              "      <th>_wdire</th>\n",
              "      <th>_wgustm</th>\n",
              "      <th>_windchillm</th>\n",
              "      <th>_wspdm</th>\n",
              "    </tr>\n",
              "  </thead>\n",
              "  <tbody>\n",
              "    <tr>\n",
              "      <th>0</th>\n",
              "      <td>19961101-11:00</td>\n",
              "      <td>Smoke</td>\n",
              "      <td>9.0</td>\n",
              "      <td>0</td>\n",
              "      <td>0</td>\n",
              "      <td>NaN</td>\n",
              "      <td>27.0</td>\n",
              "      <td>NaN</td>\n",
              "      <td>1010.0</td>\n",
              "      <td>0</td>\n",
              "      <td>0</td>\n",
              "      <td>30.0</td>\n",
              "      <td>0</td>\n",
              "      <td>0</td>\n",
              "      <td>5.0</td>\n",
              "      <td>280.0</td>\n",
              "      <td>West</td>\n",
              "      <td>NaN</td>\n",
              "      <td>NaN</td>\n",
              "      <td>7.4</td>\n",
              "    </tr>\n",
              "    <tr>\n",
              "      <th>1</th>\n",
              "      <td>19961101-12:00</td>\n",
              "      <td>Smoke</td>\n",
              "      <td>10.0</td>\n",
              "      <td>0</td>\n",
              "      <td>0</td>\n",
              "      <td>NaN</td>\n",
              "      <td>32.0</td>\n",
              "      <td>NaN</td>\n",
              "      <td>-9999.0</td>\n",
              "      <td>0</td>\n",
              "      <td>0</td>\n",
              "      <td>28.0</td>\n",
              "      <td>0</td>\n",
              "      <td>0</td>\n",
              "      <td>NaN</td>\n",
              "      <td>0.0</td>\n",
              "      <td>North</td>\n",
              "      <td>NaN</td>\n",
              "      <td>NaN</td>\n",
              "      <td>NaN</td>\n",
              "    </tr>\n",
              "    <tr>\n",
              "      <th>2</th>\n",
              "      <td>19961101-13:00</td>\n",
              "      <td>Smoke</td>\n",
              "      <td>11.0</td>\n",
              "      <td>0</td>\n",
              "      <td>0</td>\n",
              "      <td>NaN</td>\n",
              "      <td>44.0</td>\n",
              "      <td>NaN</td>\n",
              "      <td>-9999.0</td>\n",
              "      <td>0</td>\n",
              "      <td>0</td>\n",
              "      <td>24.0</td>\n",
              "      <td>0</td>\n",
              "      <td>0</td>\n",
              "      <td>NaN</td>\n",
              "      <td>0.0</td>\n",
              "      <td>North</td>\n",
              "      <td>NaN</td>\n",
              "      <td>NaN</td>\n",
              "      <td>NaN</td>\n",
              "    </tr>\n",
              "    <tr>\n",
              "      <th>3</th>\n",
              "      <td>19961101-14:00</td>\n",
              "      <td>Smoke</td>\n",
              "      <td>10.0</td>\n",
              "      <td>0</td>\n",
              "      <td>0</td>\n",
              "      <td>NaN</td>\n",
              "      <td>41.0</td>\n",
              "      <td>NaN</td>\n",
              "      <td>1010.0</td>\n",
              "      <td>0</td>\n",
              "      <td>0</td>\n",
              "      <td>24.0</td>\n",
              "      <td>0</td>\n",
              "      <td>0</td>\n",
              "      <td>2.0</td>\n",
              "      <td>0.0</td>\n",
              "      <td>North</td>\n",
              "      <td>NaN</td>\n",
              "      <td>NaN</td>\n",
              "      <td>NaN</td>\n",
              "    </tr>\n",
              "    <tr>\n",
              "      <th>4</th>\n",
              "      <td>19961101-16:00</td>\n",
              "      <td>Smoke</td>\n",
              "      <td>11.0</td>\n",
              "      <td>0</td>\n",
              "      <td>0</td>\n",
              "      <td>NaN</td>\n",
              "      <td>47.0</td>\n",
              "      <td>NaN</td>\n",
              "      <td>1011.0</td>\n",
              "      <td>0</td>\n",
              "      <td>0</td>\n",
              "      <td>23.0</td>\n",
              "      <td>0</td>\n",
              "      <td>0</td>\n",
              "      <td>1.2</td>\n",
              "      <td>0.0</td>\n",
              "      <td>North</td>\n",
              "      <td>NaN</td>\n",
              "      <td>NaN</td>\n",
              "      <td>0.0</td>\n",
              "    </tr>\n",
              "  </tbody>\n",
              "</table>\n",
              "</div>"
            ],
            "text/plain": [
              "     datetime_utc  _conds   _dewptm  ...   _wgustm   _windchillm   _wspdm\n",
              "0  19961101-11:00   Smoke       9.0  ...       NaN           NaN      7.4\n",
              "1  19961101-12:00   Smoke      10.0  ...       NaN           NaN      NaN\n",
              "2  19961101-13:00   Smoke      11.0  ...       NaN           NaN      NaN\n",
              "3  19961101-14:00   Smoke      10.0  ...       NaN           NaN      NaN\n",
              "4  19961101-16:00   Smoke      11.0  ...       NaN           NaN      0.0\n",
              "\n",
              "[5 rows x 20 columns]"
            ]
          },
          "metadata": {
            "tags": []
          },
          "execution_count": 4
        }
      ]
    },
    {
      "cell_type": "code",
      "metadata": {
        "id": "G9_PCNUf_lQz"
      },
      "source": [
        "data['datetime_utc'] = pd.to_datetime(data['datetime_utc'])\n",
        "data.set_index('datetime_utc', inplace= True)\n",
        "data =data.resample('D').mean()\n"
      ],
      "execution_count": null,
      "outputs": []
    },
    {
      "cell_type": "code",
      "metadata": {
        "id": "PV54PbEKBHrK"
      },
      "source": [
        "data = data[[' _tempm']]\n",
        "data[' _tempm'].fillna(data[' _tempm'].mean(),inplace=True)\n",
        "#data[' _hum'].fillna(data[' _hum'].mean(),inplace=True)\n",
        "\n"
      ],
      "execution_count": null,
      "outputs": []
    },
    {
      "cell_type": "code",
      "metadata": {
        "id": "utuDuDwvFPjY",
        "colab": {
          "base_uri": "https://localhost:8080/",
          "height": 225
        },
        "outputId": "4e4420d4-62a5-42ce-841e-e3d0e7e9e35b"
      },
      "source": [
        "data.head()"
      ],
      "execution_count": null,
      "outputs": [
        {
          "output_type": "execute_result",
          "data": {
            "text/html": [
              "<div>\n",
              "<style scoped>\n",
              "    .dataframe tbody tr th:only-of-type {\n",
              "        vertical-align: middle;\n",
              "    }\n",
              "\n",
              "    .dataframe tbody tr th {\n",
              "        vertical-align: top;\n",
              "    }\n",
              "\n",
              "    .dataframe thead th {\n",
              "        text-align: right;\n",
              "    }\n",
              "</style>\n",
              "<table border=\"1\" class=\"dataframe\">\n",
              "  <thead>\n",
              "    <tr style=\"text-align: right;\">\n",
              "      <th></th>\n",
              "      <th>_tempm</th>\n",
              "    </tr>\n",
              "    <tr>\n",
              "      <th>datetime_utc</th>\n",
              "      <th></th>\n",
              "    </tr>\n",
              "  </thead>\n",
              "  <tbody>\n",
              "    <tr>\n",
              "      <th>1996-11-01</th>\n",
              "      <td>22.333333</td>\n",
              "    </tr>\n",
              "    <tr>\n",
              "      <th>1996-11-02</th>\n",
              "      <td>22.916667</td>\n",
              "    </tr>\n",
              "    <tr>\n",
              "      <th>1996-11-03</th>\n",
              "      <td>21.791667</td>\n",
              "    </tr>\n",
              "    <tr>\n",
              "      <th>1996-11-04</th>\n",
              "      <td>22.722222</td>\n",
              "    </tr>\n",
              "    <tr>\n",
              "      <th>1996-11-05</th>\n",
              "      <td>27.800000</td>\n",
              "    </tr>\n",
              "  </tbody>\n",
              "</table>\n",
              "</div>"
            ],
            "text/plain": [
              "                 _tempm\n",
              "datetime_utc           \n",
              "1996-11-01    22.333333\n",
              "1996-11-02    22.916667\n",
              "1996-11-03    21.791667\n",
              "1996-11-04    22.722222\n",
              "1996-11-05    27.800000"
            ]
          },
          "metadata": {
            "tags": []
          },
          "execution_count": 7
        }
      ]
    },
    {
      "cell_type": "markdown",
      "metadata": {
        "id": "EjEQAE0xvW9p"
      },
      "source": [
        "#Time Series Forecast using LSTM"
      ]
    },
    {
      "cell_type": "markdown",
      "metadata": {
        "id": "LWG9pD91vdtN"
      },
      "source": [
        "Long Short Term Memory networks – usually just called “LSTMs” – are a special kind of RNN, capable of learning long-term dependencies.\n",
        "\n",
        "LSTMs are explicitly designed to avoid the long-term dependency problem. Remembering information for long periods of time is practically their default behavior, not something they struggle to learn."
      ]
    },
    {
      "cell_type": "code",
      "metadata": {
        "id": "jRqmpfhbH57A"
      },
      "source": [
        "data=data.astype('float32')"
      ],
      "execution_count": null,
      "outputs": []
    },
    {
      "cell_type": "code",
      "metadata": {
        "id": "w9V0kPXNKbhj",
        "colab": {
          "base_uri": "https://localhost:8080/"
        },
        "outputId": "7e21af28-71f0-4c1d-a72e-95a0992c8da1"
      },
      "source": [
        "scaler= MinMaxScaler(feature_range=(-1,1))\n",
        "sc= scaler.fit_transform(data)\n",
        "sc\n",
        "#len(sc)"
      ],
      "execution_count": null,
      "outputs": [
        {
          "output_type": "execute_result",
          "data": {
            "text/plain": [
              "array([[-0.07224715],\n",
              "       [-0.03911316],\n",
              "       [-0.10301447],\n",
              "       ...,\n",
              "       [ 0.5279522 ],\n",
              "       [ 0.5265322 ],\n",
              "       [ 0.47683108]], dtype=float32)"
            ]
          },
          "metadata": {
            "tags": []
          },
          "execution_count": 9
        }
      ]
    },
    {
      "cell_type": "code",
      "metadata": {
        "id": "faTu8KQnNqOR"
      },
      "source": [
        "timestep=30\n",
        "x=[]\n",
        "y=[]\n",
        "for i in range(len(sc)-(timestep)):\n",
        "  x.append(sc[i:i+timestep])\n",
        "  y.append(sc[i+timestep])"
      ],
      "execution_count": null,
      "outputs": []
    },
    {
      "cell_type": "code",
      "metadata": {
        "id": "3EnP52NiQ7KX",
        "colab": {
          "base_uri": "https://localhost:8080/"
        },
        "outputId": "370bb6f0-d807-4a39-cdae-af92bde109e8"
      },
      "source": [
        "x=np.asanyarray(x)\n",
        "y=np.asanyarray(y)\n",
        "print(x.shape)\n",
        "y.shape"
      ],
      "execution_count": null,
      "outputs": [
        {
          "output_type": "stream",
          "text": [
            "(7450, 30, 1)\n"
          ],
          "name": "stdout"
        },
        {
          "output_type": "execute_result",
          "data": {
            "text/plain": [
              "(7450, 1)"
            ]
          },
          "metadata": {
            "tags": []
          },
          "execution_count": 11
        }
      ]
    },
    {
      "cell_type": "code",
      "metadata": {
        "id": "ZbLM4xuXTn6x",
        "colab": {
          "base_uri": "https://localhost:8080/"
        },
        "outputId": "4148fc2c-5598-4ac4-befe-d6e4b68906d1"
      },
      "source": [
        "from sklearn.model_selection import train_test_split\n",
        "X_train, X_test, y_train, y_test = train_test_split(x, y, test_size=0.02)\n",
        "print(X_train.shape)\n",
        "print(X_test.shape)\n",
        "#print(X_train[0])\n",
        "#print(X_test[1])\n",
        "y_test[0]\n",
        "\n"
      ],
      "execution_count": null,
      "outputs": [
        {
          "output_type": "stream",
          "text": [
            "(7301, 30, 1)\n",
            "(149, 30, 1)\n"
          ],
          "name": "stdout"
        },
        {
          "output_type": "execute_result",
          "data": {
            "text/plain": [
              "array([0.618834], dtype=float32)"
            ]
          },
          "metadata": {
            "tags": []
          },
          "execution_count": 12
        }
      ]
    },
    {
      "cell_type": "markdown",
      "metadata": {
        "id": "4CQcI1cyvzrN"
      },
      "source": [
        "#CNN - LSTM Model"
      ]
    },
    {
      "cell_type": "code",
      "metadata": {
        "id": "DSGDZo64Xoa0"
      },
      "source": [
        "model = Sequential()\n",
        "model.add(Conv1D(filters=256,kernel_size=2,activation='relu',input_shape=(30,1)))\n",
        "model.add(Conv1D(filters=128,kernel_size=2,activation='relu'))\n",
        "model.add(MaxPooling1D(pool_size=2))\n",
        "model.add(Flatten())\n",
        "model.add(RepeatVector(30))\n",
        "model.add(LSTM(100,activation='relu'))\n",
        "model.add(Dense(50,activation='relu'))\n",
        "model.add(Dense(1))\n"
      ],
      "execution_count": null,
      "outputs": []
    },
    {
      "cell_type": "code",
      "metadata": {
        "id": "tFUyZIGtcnrx"
      },
      "source": [
        "model.compile(loss='mse',optimizer='adam')"
      ],
      "execution_count": null,
      "outputs": []
    },
    {
      "cell_type": "code",
      "metadata": {
        "id": "4HhDFXPPdyZp",
        "colab": {
          "base_uri": "https://localhost:8080/"
        },
        "outputId": "549d70e6-4ec4-4821-b2e6-40edc3e5a0d6"
      },
      "source": [
        "model.fit(X_train,y_train,epochs=1,verbose=0)\n"
      ],
      "execution_count": null,
      "outputs": [
        {
          "output_type": "execute_result",
          "data": {
            "text/plain": [
              "<tensorflow.python.keras.callbacks.History at 0x7f3fb23f7518>"
            ]
          },
          "metadata": {
            "tags": []
          },
          "execution_count": 15
        }
      ]
    },
    {
      "cell_type": "code",
      "metadata": {
        "colab": {
          "base_uri": "https://localhost:8080/"
        },
        "id": "YJrzk7c5egsa",
        "outputId": "ad19777a-52af-4046-f9d3-9ecccdef3cc3"
      },
      "source": [
        "accuracy=model.evaluate(X_test,y_test,verbose=1)"
      ],
      "execution_count": null,
      "outputs": [
        {
          "output_type": "stream",
          "text": [
            "5/5 [==============================] - 0s 34ms/step - loss: 0.0135 - accuracy: 0.0000e+00\n"
          ],
          "name": "stdout"
        }
      ]
    },
    {
      "cell_type": "code",
      "metadata": {
        "id": "8UEu0K5ihsH3",
        "colab": {
          "base_uri": "https://localhost:8080/"
        },
        "outputId": "e081edd5-2744-434f-ba91-b75f22ac9fc3"
      },
      "source": [
        "\n",
        "pred=model.predict(X_test[3:4])\n",
        "pred=scaler.inverse_transform(pred)\n",
        "print(pred)\n",
        "#print(y_test[0])\n",
        "\n",
        "\n",
        "#y_test=np.asanyarray(y_test) \n",
        "#y_test=y_test.reshape(-1,1) \n",
        "#y_test[0]\n",
        "y_test = scaler.inverse_transform(y_test)\n",
        "y_test[3]\n",
        "\n",
        "\n",
        "#mean_squared_error(y_test,pred)\n"
      ],
      "execution_count": null,
      "outputs": [
        {
          "output_type": "stream",
          "text": [
            "[[17.962585]]\n"
          ],
          "name": "stdout"
        },
        {
          "output_type": "execute_result",
          "data": {
            "text/plain": [
              "array([53987920.], dtype=float32)"
            ]
          },
          "metadata": {
            "tags": []
          },
          "execution_count": 23
        }
      ]
    },
    {
      "cell_type": "markdown",
      "metadata": {
        "id": "3-UUHVi6u0SC"
      },
      "source": [
        "Predicting Temperature in test dataset"
      ]
    },
    {
      "cell_type": "code",
      "metadata": {
        "id": "DtlC4Ch9ETZr"
      },
      "source": [
        "data1=pd.read_csv('testset3.csv')\n",
        "data1.set_index('date', inplace= True)\n",
        "data1 = data1[['temp']]\n"
      ],
      "execution_count": null,
      "outputs": []
    },
    {
      "cell_type": "code",
      "metadata": {
        "id": "OV3-EVLRFs71",
        "colab": {
          "base_uri": "https://localhost:8080/",
          "height": 225
        },
        "outputId": "7d058d8c-5dd4-4078-a201-a1aaef6500a3"
      },
      "source": [
        "data1.head()"
      ],
      "execution_count": null,
      "outputs": [
        {
          "output_type": "execute_result",
          "data": {
            "text/html": [
              "<div>\n",
              "<style scoped>\n",
              "    .dataframe tbody tr th:only-of-type {\n",
              "        vertical-align: middle;\n",
              "    }\n",
              "\n",
              "    .dataframe tbody tr th {\n",
              "        vertical-align: top;\n",
              "    }\n",
              "\n",
              "    .dataframe thead th {\n",
              "        text-align: right;\n",
              "    }\n",
              "</style>\n",
              "<table border=\"1\" class=\"dataframe\">\n",
              "  <thead>\n",
              "    <tr style=\"text-align: right;\">\n",
              "      <th></th>\n",
              "      <th>temp</th>\n",
              "    </tr>\n",
              "    <tr>\n",
              "      <th>date</th>\n",
              "      <th></th>\n",
              "    </tr>\n",
              "  </thead>\n",
              "  <tbody>\n",
              "    <tr>\n",
              "      <th>25-09-2020</th>\n",
              "      <td>18.111</td>\n",
              "    </tr>\n",
              "    <tr>\n",
              "      <th>26-09-2020</th>\n",
              "      <td>22.278</td>\n",
              "    </tr>\n",
              "    <tr>\n",
              "      <th>27-09-2020</th>\n",
              "      <td>20.000</td>\n",
              "    </tr>\n",
              "    <tr>\n",
              "      <th>28-09-2020</th>\n",
              "      <td>15.778</td>\n",
              "    </tr>\n",
              "    <tr>\n",
              "      <th>29-09-2020</th>\n",
              "      <td>13.442</td>\n",
              "    </tr>\n",
              "  </tbody>\n",
              "</table>\n",
              "</div>"
            ],
            "text/plain": [
              "              temp\n",
              "date              \n",
              "25-09-2020  18.111\n",
              "26-09-2020  22.278\n",
              "27-09-2020  20.000\n",
              "28-09-2020  15.778\n",
              "29-09-2020  13.442"
            ]
          },
          "metadata": {
            "tags": []
          },
          "execution_count": 54
        }
      ]
    },
    {
      "cell_type": "code",
      "metadata": {
        "id": "OG8xvtyTHuhd"
      },
      "source": [
        "data1=data1.astype('float32')\n",
        "scaler= MinMaxScaler(feature_range=(-1,1))\n",
        "scl= scaler.fit_transform(data1)"
      ],
      "execution_count": null,
      "outputs": []
    },
    {
      "cell_type": "code",
      "metadata": {
        "id": "XQkbbngoIFIZ",
        "colab": {
          "base_uri": "https://localhost:8080/"
        },
        "outputId": "28991f51-f911-4b83-faf8-132e915c7c28"
      },
      "source": [
        "steps=30\n",
        "xi=[]\n",
        "yi=[]\n",
        "for i in range(len(scl)-(steps)):\n",
        "  xi.append(scl[i:i+steps])\n",
        "  yi.append(scl[i+steps])\n",
        "xi=np.asanyarray(xi)\n",
        "yi=np.asanyarray(yi)\n",
        "#xi.shape\n",
        "yi\n",
        "\n"
      ],
      "execution_count": null,
      "outputs": [
        {
          "output_type": "execute_result",
          "data": {
            "text/plain": [
              "array([[-0.41496962],\n",
              "       [-0.7791628 ],\n",
              "       [-1.        ],\n",
              "       [-0.659771  ],\n",
              "       [-0.516415  ],\n",
              "       [-0.8627693 ]], dtype=float32)"
            ]
          },
          "metadata": {
            "tags": []
          },
          "execution_count": 56
        }
      ]
    },
    {
      "cell_type": "code",
      "metadata": {
        "id": "jEJ5q3rEL9Fe",
        "colab": {
          "base_uri": "https://localhost:8080/"
        },
        "outputId": "f0713fca-5f13-441f-dd7e-b57aa14937c2"
      },
      "source": [
        "def end_input(inp,new_input):   \n",
        "    for i in range(steps-1):\n",
        "        inp[:,i,:] = inp[:,i+1,:]\n",
        "      \n",
        "    inp[:,steps-1,:] = new_input\n",
        "    return inp\n",
        "future=1\n",
        "predicted = []\n",
        "inp = xi[0:1,:,:]\n",
        "for i in range(future):\n",
        "    output = new_model.predict(inp, batch_size=1) \n",
        "    op=scaler.inverse_transform(output)\n",
        "    print(op)\n",
        "    #predicted.append(op)\n",
        "    inp = end_input(inp,output[0,0]) \n"
      ],
      "execution_count": null,
      "outputs": [
        {
          "output_type": "stream",
          "text": [
            "[[9.532641]]\n"
          ],
          "name": "stdout"
        }
      ]
    }
  ]
}